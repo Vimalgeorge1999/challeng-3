{
 "cells": [
  {
   "cell_type": "code",
   "execution_count": 6,
   "id": "7bd2f2a6",
   "metadata": {},
   "outputs": [
    {
     "name": "stdout",
     "output_type": "stream",
     "text": [
      "None\n",
      "vimal\n",
      "None\n",
      "49\n"
     ]
    }
   ],
   "source": [
    "class student:\n",
    "    def get__name(self):\n",
    "        return self.__name\n",
    "    def set__name(self,x):\n",
    "        self.__name=x\n",
    "    def get__roll_no(self):\n",
    "        return self.__roll_no\n",
    "    def set__roll_no(self,x):\n",
    "        self.__roll_no=x\n",
    "c=student()\n",
    "print(c.set__name(\"vimal\"))\n",
    "print(c.get__name())\n",
    "print(c.set__roll_no(49))\n",
    "print(c.get__roll_no())"
   ]
  }
 ],
 "metadata": {
  "kernelspec": {
   "display_name": "Python 3 (ipykernel)",
   "language": "python",
   "name": "python3"
  },
  "language_info": {
   "codemirror_mode": {
    "name": "ipython",
    "version": 3
   },
   "file_extension": ".py",
   "mimetype": "text/x-python",
   "name": "python",
   "nbconvert_exporter": "python",
   "pygments_lexer": "ipython3",
   "version": "3.11.0"
  }
 },
 "nbformat": 4,
 "nbformat_minor": 5
}
